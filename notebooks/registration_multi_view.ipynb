{
 "cells": [
  {
   "cell_type": "markdown",
   "metadata": {},
   "source": [
    "## Preliminary experimental workflow to register multi-view light sheet data\n",
    "\n",
    "Notes:\n",
    "- registration: so far only translation registration is performed\n",
    "- fusion: only vanilla linear blending currently supported\n",
    "- generally\n",
    "  - this is a first hacky workflow that will strongly change in API (and get simplified)\n",
    "  - documentation will follow"
   ]
  },
  {
   "cell_type": "code",
   "execution_count": 1,
   "metadata": {},
   "outputs": [],
   "source": [
    "# imports\n",
    "\n",
    "import os\n",
    "import numpy as np\n",
    "from pathlib import Path\n",
    "from tqdm import tqdm\n",
    "import dask.diagnostics, tempfile\n",
    "\n",
    "import napari\n",
    "\n",
    "from napari_stitcher import _reader\n",
    "from napari_stitcher import _msi_utils, _spatial_image_utils\n",
    "from napari_stitcher import _viewer_utils\n",
    "from napari_stitcher import _registration\n",
    "from napari_stitcher import _fusion\n",
    "\n",
    "import tifffile\n",
    "%matplotlib widget"
   ]
  },
  {
   "cell_type": "code",
   "execution_count": 2,
   "metadata": {},
   "outputs": [
    {
     "data": {
      "text/html": [
       "<div>\n",
       "    <div style=\"width: 24px; height: 24px; background-color: #e1e1e1; border: 3px solid #9D9D9D; border-radius: 5px; position: absolute;\"> </div>\n",
       "    <div style=\"margin-left: 48px;\">\n",
       "        <h3 style=\"margin-bottom: 0px;\">Client</h3>\n",
       "        <p style=\"color: #9D9D9D; margin-bottom: 0px;\">Client-22078b50-4d54-11ee-a222-0af085676058</p>\n",
       "        <table style=\"width: 100%; text-align: left;\">\n",
       "\n",
       "        <tr>\n",
       "        \n",
       "            <td style=\"text-align: left;\"><strong>Connection method:</strong> Cluster object</td>\n",
       "            <td style=\"text-align: left;\"><strong>Cluster type:</strong> distributed.LocalCluster</td>\n",
       "        \n",
       "        </tr>\n",
       "\n",
       "        \n",
       "            <tr>\n",
       "                <td style=\"text-align: left;\">\n",
       "                    <strong>Dashboard: </strong> <a href=\"http://127.0.0.1:8787/status\" target=\"_blank\">http://127.0.0.1:8787/status</a>\n",
       "                </td>\n",
       "                <td style=\"text-align: left;\"></td>\n",
       "            </tr>\n",
       "        \n",
       "\n",
       "        </table>\n",
       "\n",
       "        \n",
       "\n",
       "        \n",
       "            <details>\n",
       "            <summary style=\"margin-bottom: 20px;\"><h3 style=\"display: inline;\">Cluster Info</h3></summary>\n",
       "            <div class=\"jp-RenderedHTMLCommon jp-RenderedHTML jp-mod-trusted jp-OutputArea-output\">\n",
       "    <div style=\"width: 24px; height: 24px; background-color: #e1e1e1; border: 3px solid #9D9D9D; border-radius: 5px; position: absolute;\">\n",
       "    </div>\n",
       "    <div style=\"margin-left: 48px;\">\n",
       "        <h3 style=\"margin-bottom: 0px; margin-top: 0px;\">LocalCluster</h3>\n",
       "        <p style=\"color: #9D9D9D; margin-bottom: 0px;\">dcb3960d</p>\n",
       "        <table style=\"width: 100%; text-align: left;\">\n",
       "            <tr>\n",
       "                <td style=\"text-align: left;\">\n",
       "                    <strong>Dashboard:</strong> <a href=\"http://127.0.0.1:8787/status\" target=\"_blank\">http://127.0.0.1:8787/status</a>\n",
       "                </td>\n",
       "                <td style=\"text-align: left;\">\n",
       "                    <strong>Workers:</strong> 1\n",
       "                </td>\n",
       "            </tr>\n",
       "            <tr>\n",
       "                <td style=\"text-align: left;\">\n",
       "                    <strong>Total threads:</strong> 8\n",
       "                </td>\n",
       "                <td style=\"text-align: left;\">\n",
       "                    <strong>Total memory:</strong> 16.00 GiB\n",
       "                </td>\n",
       "            </tr>\n",
       "            \n",
       "            <tr>\n",
       "    <td style=\"text-align: left;\"><strong>Status:</strong> running</td>\n",
       "    <td style=\"text-align: left;\"><strong>Using processes:</strong> True</td>\n",
       "</tr>\n",
       "\n",
       "            \n",
       "        </table>\n",
       "\n",
       "        <details>\n",
       "            <summary style=\"margin-bottom: 20px;\">\n",
       "                <h3 style=\"display: inline;\">Scheduler Info</h3>\n",
       "            </summary>\n",
       "\n",
       "            <div style=\"\">\n",
       "    <div>\n",
       "        <div style=\"width: 24px; height: 24px; background-color: #FFF7E5; border: 3px solid #FF6132; border-radius: 5px; position: absolute;\"> </div>\n",
       "        <div style=\"margin-left: 48px;\">\n",
       "            <h3 style=\"margin-bottom: 0px;\">Scheduler</h3>\n",
       "            <p style=\"color: #9D9D9D; margin-bottom: 0px;\">Scheduler-2e4518f3-bd95-4127-b6db-3b34fde2ce78</p>\n",
       "            <table style=\"width: 100%; text-align: left;\">\n",
       "                <tr>\n",
       "                    <td style=\"text-align: left;\">\n",
       "                        <strong>Comm:</strong> tcp://127.0.0.1:64910\n",
       "                    </td>\n",
       "                    <td style=\"text-align: left;\">\n",
       "                        <strong>Workers:</strong> 1\n",
       "                    </td>\n",
       "                </tr>\n",
       "                <tr>\n",
       "                    <td style=\"text-align: left;\">\n",
       "                        <strong>Dashboard:</strong> <a href=\"http://127.0.0.1:8787/status\" target=\"_blank\">http://127.0.0.1:8787/status</a>\n",
       "                    </td>\n",
       "                    <td style=\"text-align: left;\">\n",
       "                        <strong>Total threads:</strong> 8\n",
       "                    </td>\n",
       "                </tr>\n",
       "                <tr>\n",
       "                    <td style=\"text-align: left;\">\n",
       "                        <strong>Started:</strong> Just now\n",
       "                    </td>\n",
       "                    <td style=\"text-align: left;\">\n",
       "                        <strong>Total memory:</strong> 16.00 GiB\n",
       "                    </td>\n",
       "                </tr>\n",
       "            </table>\n",
       "        </div>\n",
       "    </div>\n",
       "\n",
       "    <details style=\"margin-left: 48px;\">\n",
       "        <summary style=\"margin-bottom: 20px;\">\n",
       "            <h3 style=\"display: inline;\">Workers</h3>\n",
       "        </summary>\n",
       "\n",
       "        \n",
       "        <div style=\"margin-bottom: 20px;\">\n",
       "            <div style=\"width: 24px; height: 24px; background-color: #DBF5FF; border: 3px solid #4CC9FF; border-radius: 5px; position: absolute;\"> </div>\n",
       "            <div style=\"margin-left: 48px;\">\n",
       "            <details>\n",
       "                <summary>\n",
       "                    <h4 style=\"margin-bottom: 0px; display: inline;\">Worker: 0</h4>\n",
       "                </summary>\n",
       "                <table style=\"width: 100%; text-align: left;\">\n",
       "                    <tr>\n",
       "                        <td style=\"text-align: left;\">\n",
       "                            <strong>Comm: </strong> tcp://127.0.0.1:64915\n",
       "                        </td>\n",
       "                        <td style=\"text-align: left;\">\n",
       "                            <strong>Total threads: </strong> 8\n",
       "                        </td>\n",
       "                    </tr>\n",
       "                    <tr>\n",
       "                        <td style=\"text-align: left;\">\n",
       "                            <strong>Dashboard: </strong> <a href=\"http://127.0.0.1:64916/status\" target=\"_blank\">http://127.0.0.1:64916/status</a>\n",
       "                        </td>\n",
       "                        <td style=\"text-align: left;\">\n",
       "                            <strong>Memory: </strong> 16.00 GiB\n",
       "                        </td>\n",
       "                    </tr>\n",
       "                    <tr>\n",
       "                        <td style=\"text-align: left;\">\n",
       "                            <strong>Nanny: </strong> tcp://127.0.0.1:64913\n",
       "                        </td>\n",
       "                        <td style=\"text-align: left;\"></td>\n",
       "                    </tr>\n",
       "                    <tr>\n",
       "                        <td colspan=\"2\" style=\"text-align: left;\">\n",
       "                            <strong>Local directory: </strong> /var/folders/fb/ccf_crrx195fclngv32r4xcc0000gq/T/dask-scratch-space/worker-y32ei73l\n",
       "                        </td>\n",
       "                    </tr>\n",
       "\n",
       "                    \n",
       "\n",
       "                    \n",
       "\n",
       "                </table>\n",
       "            </details>\n",
       "            </div>\n",
       "        </div>\n",
       "        \n",
       "\n",
       "    </details>\n",
       "</div>\n",
       "\n",
       "        </details>\n",
       "    </div>\n",
       "</div>\n",
       "            </details>\n",
       "        \n",
       "\n",
       "    </div>\n",
       "</div>"
      ],
      "text/plain": [
       "<Client: 'tcp://127.0.0.1:64910' processes=1 threads=8, memory=16.00 GiB>"
      ]
     },
     "execution_count": 2,
     "metadata": {},
     "output_type": "execute_result"
    }
   ],
   "source": [
    "# Start a dask cluster\n",
    "\n",
    "from distributed import Client, LocalCluster\n",
    "\n",
    "lc = LocalCluster(n_workers=1, threads_per_worker=None)\n",
    "client = Client(lc)\n",
    "client\n"
   ]
  },
  {
   "cell_type": "code",
   "execution_count": 8,
   "metadata": {},
   "outputs": [],
   "source": [
    "# Set visualization on or off\n",
    "\n",
    "visualize_using_napari = True"
   ]
  },
  {
   "cell_type": "markdown",
   "metadata": {},
   "source": [
    "### Load data into multiscale zarr files (close to NGFF format)"
   ]
  },
  {
   "cell_type": "code",
   "execution_count": 4,
   "metadata": {},
   "outputs": [
    {
     "name": "stdout",
     "output_type": "stream",
     "text": [
      "Files:\n",
      "MGolden2022A-DS0031TP0001DR0001CH0001PL(ZS).tif\n",
      "MGolden2022A-DS0031TP0001DR0002CH0001PL(ZS).tif\n",
      "MGolden2022A-DS0031TP0001DR0003CH0001PL(ZS).tif\n",
      "MGolden2022A-DS0031TP0001DR0004CH0001PL(ZS).tif\n"
     ]
    }
   ],
   "source": [
    "base_dir = '../image-datasets/multi-view/old_mDSLM_classical_4_angles_10x_0.3NA_detection'\n",
    "filenames = [(os.path.join(base_dir, f)) for f in os.listdir(base_dir) if f.endswith('.tif')]\n",
    "\n",
    "# sort angles\n",
    "filenames = [Path(fn) for fn in sorted(filenames)]\n",
    "print('Files:')\n",
    "print('\\n'.join([fn.name for fn in filenames]))\n"
   ]
  },
  {
   "cell_type": "code",
   "execution_count": 5,
   "metadata": {},
   "outputs": [
    {
     "name": "stderr",
     "output_type": "stream",
     "text": [
      "100%|██████████| 4/4 [00:00<00:00,  8.41it/s]\n"
     ]
    }
   ],
   "source": [
    "import importlib\n",
    "\n",
    "_reader = importlib.reload(_reader)\n",
    "\n",
    "msims = []\n",
    "for filename in tqdm(filenames):\n",
    "    msim = _msi_utils.get_store_decorator(\n",
    "        filename.with_suffix('.zarr'),\n",
    "        store_overwrite=False)(\n",
    "            _msi_utils.get_msim_from_xim)(\n",
    "                _reader.read_tiff_into_spatial_xarray(\n",
    "                    filename,\n",
    "                    scale={'z': 2.58, 'y': 0.645, 'x': 0.645}\n",
    "                    \n",
    "                ))\n",
    "    msims.append(msim)\n"
   ]
  },
  {
   "cell_type": "code",
   "execution_count": 12,
   "metadata": {},
   "outputs": [
    {
     "name": "stderr",
     "output_type": "stream",
     "text": [
      "100%|██████████| 4/4 [00:23<00:00,  5.84s/it]\n"
     ]
    }
   ],
   "source": [
    "from napari_stitcher import _msi_utils\n",
    "\n",
    "msims = []\n",
    "for filename in tqdm(filenames):\n",
    "\n",
    "    xim = _reader.read_tiff_into_spatial_xarray(\n",
    "                    filename,\n",
    "                    scale={'z': 2.58, 'y': 0.645, 'x': 0.645})\n",
    "    \n",
    "    msim = _msi_utils.get_msim_from_xim(xim)\n",
    "\n",
    "    if not os.path.exists(store_path):\n",
    "        store_path = filename.with_suffix('.zarr')\n",
    "        msim.to_zarr(store_path)\n",
    "        msim = _msi_utils.multiscale_spatial_image_from_zarr(Path(store_path))\n"
   ]
  },
  {
   "cell_type": "markdown",
   "metadata": {},
   "source": [
    "### Set estimate of initial transformations"
   ]
  },
  {
   "cell_type": "code",
   "execution_count": 6,
   "metadata": {},
   "outputs": [],
   "source": [
    "import transformations as tf\n",
    "\n",
    "_msi_utils = importlib.reload(_msi_utils)\n",
    "\n",
    "for imsim, msim in enumerate(msims):\n",
    "\n",
    "    affine = tf.rotation_matrix(\n",
    "        -np.pi/2 * imsim,\n",
    "        point=_spatial_image_utils.get_center_of_xim(msims[imsim]['scale0/image']),#, transform=\"affine_metadata\"),\n",
    "        direction=[0,0,1],\n",
    "        )\n",
    "    \n",
    "    _msi_utils.set_affine_transform(\n",
    "        msim,\n",
    "        affine[None], # one tp\n",
    "        'affine_metadata'\n",
    "    )\n"
   ]
  },
  {
   "cell_type": "markdown",
   "metadata": {},
   "source": [
    "### Visualize pre-registered views"
   ]
  },
  {
   "cell_type": "code",
   "execution_count": 9,
   "metadata": {},
   "outputs": [
    {
     "name": "stderr",
     "output_type": "stream",
     "text": [
      "/Users/malbert/miniconda3/envs/napari-stitcher/lib/python3.10/site-packages/napari/layers/image/image.py:761: UserWarning: Multiscale rendering is only supported in 2D. In 3D, only the lowest resolution scale is displayed\n",
      "  warnings.warn(\n",
      "/Users/malbert/miniconda3/envs/napari-stitcher/lib/python3.10/site-packages/napari/layers/image/image.py:761: UserWarning: Multiscale rendering is only supported in 2D. In 3D, only the lowest resolution scale is displayed\n",
      "  warnings.warn(\n",
      "/Users/malbert/miniconda3/envs/napari-stitcher/lib/python3.10/site-packages/napari/layers/utils/_slice_input.py:72: UserWarning: Non-orthogonal slicing is being requested, but is not fully supported. Data is displayed without applying an out-of-slice rotation or shear component.\n",
      "  warnings.warn(\n",
      "/Users/malbert/miniconda3/envs/napari-stitcher/lib/python3.10/site-packages/napari/layers/image/image.py:761: UserWarning: Multiscale rendering is only supported in 2D. In 3D, only the lowest resolution scale is displayed\n",
      "  warnings.warn(\n",
      "/Users/malbert/miniconda3/envs/napari-stitcher/lib/python3.10/site-packages/napari/layers/image/image.py:761: UserWarning: Multiscale rendering is only supported in 2D. In 3D, only the lowest resolution scale is displayed\n",
      "  warnings.warn(\n",
      "/Users/malbert/miniconda3/envs/napari-stitcher/lib/python3.10/site-packages/napari/layers/utils/_slice_input.py:72: UserWarning: Non-orthogonal slicing is being requested, but is not fully supported. Data is displayed without applying an out-of-slice rotation or shear component.\n",
      "  warnings.warn(\n",
      "/Users/malbert/miniconda3/envs/napari-stitcher/lib/python3.10/site-packages/napari/layers/image/image.py:761: UserWarning: Multiscale rendering is only supported in 2D. In 3D, only the lowest resolution scale is displayed\n",
      "  warnings.warn(\n"
     ]
    }
   ],
   "source": [
    "if visualize_using_napari:\n",
    "    viewer = napari.Viewer(ndisplay=3)\n",
    "    lds = _viewer_utils.create_image_layer_tuples_from_msims(msims, transform_key='affine_metadata', n_colors=4)\n",
    "\n",
    "    _viewer_utils.add_image_layer_tuples_to_viewer(viewer, lds)"
   ]
  },
  {
   "cell_type": "markdown",
   "metadata": {},
   "source": [
    "### Register views"
   ]
  },
  {
   "cell_type": "code",
   "execution_count": 10,
   "metadata": {},
   "outputs": [
    {
     "name": "stderr",
     "output_type": "stream",
     "text": [
      "/Users/malbert/miniconda3/envs/napari-stitcher/lib/python3.10/site-packages/numpy/lib/function_base.py:2853: RuntimeWarning: invalid value encountered in divide\n",
      "  c /= stddev[:, None]\n",
      "/Users/malbert/miniconda3/envs/napari-stitcher/lib/python3.10/site-packages/numpy/lib/function_base.py:2854: RuntimeWarning: invalid value encountered in divide\n",
      "  c /= stddev[None, :]\n"
     ]
    }
   ],
   "source": [
    "import importlib\n",
    "_registration = importlib.reload(_registration)\n",
    "\n",
    "with dask.diagnostics.ProgressBar():\n",
    "    params = _registration.register(\n",
    "        [_msi_utils.get_xim_from_msim(msim) for msim in msims],\n",
    "        registration_binning={'z': 2, 'y': 8, 'x': 8},\n",
    "        reg_channel_index=0,\n",
    "        transform_key='affine_metadata',\n",
    "    )\n",
    "    \n",
    "for msim, param in zip(msims, params):\n",
    "    _msi_utils.set_affine_transform(msim, param, transform_key='affine_registered', base_transform_key='affine_metadata')"
   ]
  },
  {
   "cell_type": "markdown",
   "metadata": {},
   "source": [
    "### Visualize registration"
   ]
  },
  {
   "cell_type": "code",
   "execution_count": 11,
   "metadata": {},
   "outputs": [
    {
     "name": "stderr",
     "output_type": "stream",
     "text": [
      "/Users/malbert/miniconda3/envs/napari-stitcher/lib/python3.10/site-packages/napari/layers/image/image.py:761: UserWarning: Multiscale rendering is only supported in 2D. In 3D, only the lowest resolution scale is displayed\n",
      "  warnings.warn(\n",
      "/Users/malbert/miniconda3/envs/napari-stitcher/lib/python3.10/site-packages/napari/layers/image/image.py:761: UserWarning: Multiscale rendering is only supported in 2D. In 3D, only the lowest resolution scale is displayed\n",
      "  warnings.warn(\n",
      "/Users/malbert/miniconda3/envs/napari-stitcher/lib/python3.10/site-packages/napari/layers/utils/_slice_input.py:72: UserWarning: Non-orthogonal slicing is being requested, but is not fully supported. Data is displayed without applying an out-of-slice rotation or shear component.\n",
      "  warnings.warn(\n",
      "/Users/malbert/miniconda3/envs/napari-stitcher/lib/python3.10/site-packages/napari/layers/image/image.py:761: UserWarning: Multiscale rendering is only supported in 2D. In 3D, only the lowest resolution scale is displayed\n",
      "  warnings.warn(\n",
      "/Users/malbert/miniconda3/envs/napari-stitcher/lib/python3.10/site-packages/napari/layers/image/image.py:761: UserWarning: Multiscale rendering is only supported in 2D. In 3D, only the lowest resolution scale is displayed\n",
      "  warnings.warn(\n",
      "/Users/malbert/miniconda3/envs/napari-stitcher/lib/python3.10/site-packages/napari/layers/utils/_slice_input.py:72: UserWarning: Non-orthogonal slicing is being requested, but is not fully supported. Data is displayed without applying an out-of-slice rotation or shear component.\n",
      "  warnings.warn(\n",
      "/Users/malbert/miniconda3/envs/napari-stitcher/lib/python3.10/site-packages/napari/layers/image/image.py:761: UserWarning: Multiscale rendering is only supported in 2D. In 3D, only the lowest resolution scale is displayed\n",
      "  warnings.warn(\n",
      "/Users/malbert/miniconda3/envs/napari-stitcher/lib/python3.10/site-packages/napari/layers/image/image.py:761: UserWarning: Multiscale rendering is only supported in 2D. In 3D, only the lowest resolution scale is displayed\n",
      "  warnings.warn(\n",
      "/Users/malbert/miniconda3/envs/napari-stitcher/lib/python3.10/site-packages/napari/layers/utils/_slice_input.py:72: UserWarning: Non-orthogonal slicing is being requested, but is not fully supported. Data is displayed without applying an out-of-slice rotation or shear component.\n",
      "  warnings.warn(\n",
      "/Users/malbert/miniconda3/envs/napari-stitcher/lib/python3.10/site-packages/napari/layers/image/image.py:761: UserWarning: Multiscale rendering is only supported in 2D. In 3D, only the lowest resolution scale is displayed\n",
      "  warnings.warn(\n",
      "/Users/malbert/miniconda3/envs/napari-stitcher/lib/python3.10/site-packages/napari/layers/image/image.py:761: UserWarning: Multiscale rendering is only supported in 2D. In 3D, only the lowest resolution scale is displayed\n",
      "  warnings.warn(\n",
      "/Users/malbert/miniconda3/envs/napari-stitcher/lib/python3.10/site-packages/napari/layers/utils/_slice_input.py:72: UserWarning: Non-orthogonal slicing is being requested, but is not fully supported. Data is displayed without applying an out-of-slice rotation or shear component.\n",
      "  warnings.warn(\n",
      "/Users/malbert/miniconda3/envs/napari-stitcher/lib/python3.10/site-packages/napari/layers/image/image.py:761: UserWarning: Multiscale rendering is only supported in 2D. In 3D, only the lowest resolution scale is displayed\n",
      "  warnings.warn(\n"
     ]
    }
   ],
   "source": [
    "if visualize_using_napari:\n",
    "    viewer = napari.Viewer(ndisplay=3)\n",
    "\n",
    "    lds = _viewer_utils.create_image_layer_tuples_from_msims(\n",
    "        msims, transform_key='affine_metadata', n_colors=4,\n",
    "        name_prefix='pre-registered view')\n",
    "    mlayers = _viewer_utils.add_image_layer_tuples_to_viewer(viewer, lds, do_link_layers=True)\n",
    "\n",
    "    lds = _viewer_utils.create_image_layer_tuples_from_msims(\n",
    "        msims, transform_key='affine_registered', n_colors=4,\n",
    "        name_prefix='registered view')\n",
    "    rlayers = _viewer_utils.add_image_layer_tuples_to_viewer(viewer, lds, do_link_layers=True)"
   ]
  },
  {
   "cell_type": "markdown",
   "metadata": {},
   "source": [
    "### Fuse views (linear blending)"
   ]
  },
  {
   "cell_type": "code",
   "execution_count": 10,
   "metadata": {},
   "outputs": [
    {
     "name": "stderr",
     "output_type": "stream",
     "text": [
      "/Users/marvin/mambaforge/envs/napari-stitcher/lib/python3.10/site-packages/distributed/client.py:3108: UserWarning: Sending large graph of size 0.97 GiB.\n",
      "This may cause some slowdown.\n",
      "Consider scattering data ahead of time and using futures.\n",
      "  warnings.warn(\n",
      "2023-08-23 15:18:30,169 [Geometry3D WARNING] 'Renderer' is deprecated, using 'Visualizer' instead.\n"
     ]
    }
   ],
   "source": [
    "import importlib\n",
    "_fusion = importlib.reload(_fusion)\n",
    "from napari_stitcher import _transformation\n",
    "_transformation = importlib.reload(_transformation)\n",
    "\n",
    "xims = [_msi_utils.get_xim_from_msim(msim) for msim in msims]\n",
    "\n",
    "tmpdir = tempfile.TemporaryDirectory()\n",
    "\n",
    "fused = _fusion.fuse(\n",
    "    xims[:],\n",
    "    transform_key='affine_registered',\n",
    "    output_spacing={dim: 5. for dim in ['z', 'y', 'x']},\n",
    "    output_chunksize=128,\n",
    "    )\n",
    "\n",
    "mfused = _msi_utils.get_msim_from_xim(fused, scale_factors=[])\n",
    "\n",
    "fused_path = os.path.join(tmpdir.name, 'fused.zarr')\n",
    "with dask.diagnostics.ProgressBar():\n",
    "    mfused.to_zarr(fused_path)\n",
    "    \n",
    "mfused = _msi_utils.multiscale_spatial_image_from_zarr(fused_path)"
   ]
  },
  {
   "cell_type": "markdown",
   "metadata": {},
   "source": [
    "### Visualize fusion in napari"
   ]
  },
  {
   "cell_type": "code",
   "execution_count": 11,
   "metadata": {},
   "outputs": [],
   "source": [
    "if visualize_using_napari:\n",
    "\n",
    "    viewer = napari.Viewer(ndisplay=3)\n",
    "\n",
    "    lds = _viewer_utils.create_image_layer_tuples_from_msims(\n",
    "        msims, transform_key='affine_registered', n_colors=4,\n",
    "        name_prefix='registered view')\n",
    "\n",
    "    rlayers = _viewer_utils.add_image_layer_tuples_to_viewer(viewer, lds, do_link_layers=False)\n",
    "\n",
    "    ld = _viewer_utils.create_image_layer_tuple_from_msim(mfused, transform_key='affine_registered', name_prefix='fused')\n",
    "\n",
    "    _viewer_utils.add_image_layer_tuples_to_viewer(viewer, [ld])"
   ]
  },
  {
   "cell_type": "code",
   "execution_count": 12,
   "metadata": {},
   "outputs": [
    {
     "name": "stdout",
     "output_type": "stream",
     "text": [
      "[                                        ] | 0% Completed | 150.19 ms"
     ]
    },
    {
     "name": "stderr",
     "output_type": "stream",
     "text": [
      "/Users/marvin/mambaforge/envs/napari-stitcher/lib/python3.10/site-packages/dask/base.py:1368: UserWarning: Running on a single-machine scheduler when a distributed client is active might lead to unexpected results.\n",
      "  warnings.warn(\n"
     ]
    },
    {
     "name": "stdout",
     "output_type": "stream",
     "text": [
      "[########################################] | 100% Completed | 21.58 s\n"
     ]
    }
   ],
   "source": [
    "# stream presaved fused image to tif\n",
    "\n",
    "from napari_stitcher import _writer\n",
    "\n",
    "import importlib\n",
    "_writer = importlib.reload(_writer)\n",
    "\n",
    "with dask.diagnostics.ProgressBar():\n",
    "    _writer.save_xim_as_tif('fused.tif', _msi_utils.get_xim_from_msim(mfused))"
   ]
  }
 ],
 "metadata": {
  "kernelspec": {
   "display_name": "Python 3 (ipykernel)",
   "language": "python",
   "name": "python3"
  },
  "language_info": {
   "codemirror_mode": {
    "name": "ipython",
    "version": 3
   },
   "file_extension": ".py",
   "mimetype": "text/x-python",
   "name": "python",
   "nbconvert_exporter": "python",
   "pygments_lexer": "ipython3",
   "version": "3.10.11"
  }
 },
 "nbformat": 4,
 "nbformat_minor": 4
}
