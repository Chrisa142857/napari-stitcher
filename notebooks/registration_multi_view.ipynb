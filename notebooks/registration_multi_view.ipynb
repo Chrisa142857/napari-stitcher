{
 "cells": [
  {
   "cell_type": "markdown",
   "metadata": {},
   "source": [
    "## Preliminary experimental workflow to register multi-view light sheet data\n",
    "\n",
    "Notes:\n",
    "- registration: so far only translation registration is performed\n",
    "- fusion: only vanilla linear blending currently supported\n",
    "- generally\n",
    "  - this is a first hacky workflow that will strongly change in API (and get simplified)\n",
    "  - documentation will follow"
   ]
  },
  {
   "cell_type": "code",
   "execution_count": 1,
   "metadata": {},
   "outputs": [],
   "source": [
    "# imports\n",
    "\n",
    "import os\n",
    "import numpy as np\n",
    "from pathlib import Path\n",
    "from tqdm import tqdm\n",
    "import dask.diagnostics, tempfile\n",
    "\n",
    "import napari\n",
    "\n",
    "from napari_stitcher import _reader\n",
    "from napari_stitcher import _msi_utils, _spatial_image_utils\n",
    "from napari_stitcher import _viewer_utils\n",
    "from napari_stitcher import _registration\n",
    "from napari_stitcher import _fusion\n",
    "\n",
    "import tifffile\n",
    "%matplotlib widget"
   ]
  },
  {
   "cell_type": "markdown",
   "metadata": {},
   "source": [
    "### Load data into multiscale zarr files (close to NGFF format)"
   ]
  },
  {
   "cell_type": "code",
   "execution_count": 2,
   "metadata": {},
   "outputs": [
    {
     "name": "stdout",
     "output_type": "stream",
     "text": [
      "Files:\n",
      "MGolden2022A-DS0031TP0001DR0001CH0001PL(ZS).tif\n",
      "MGolden2022A-DS0031TP0001DR0002CH0001PL(ZS).tif\n",
      "MGolden2022A-DS0031TP0001DR0003CH0001PL(ZS).tif\n",
      "MGolden2022A-DS0031TP0001DR0004CH0001PL(ZS).tif\n"
     ]
    }
   ],
   "source": [
    "base_dir = '/Users/malbert/software/napari-stitcher/image-datasets/multi-view/old_mDSLM_classical_4_angles_10x_0.3NA_detection'\n",
    "filenames = [(os.path.join(base_dir, f)) for f in os.listdir(base_dir) if f.endswith('.tif')]\n",
    "\n",
    "# sort angles\n",
    "filenames = [Path(fn) for fn in sorted(filenames)]\n",
    "print('Files:')\n",
    "print('\\n'.join([fn.name for fn in filenames]))\n"
   ]
  },
  {
   "cell_type": "code",
   "execution_count": 3,
   "metadata": {},
   "outputs": [
    {
     "name": "stderr",
     "output_type": "stream",
     "text": [
      "100%|█| 4/4 [00:00<00:00,  9.00\n"
     ]
    }
   ],
   "source": [
    "import importlib\n",
    "\n",
    "_reader = importlib.reload(_reader)\n",
    "\n",
    "msims = []\n",
    "for filename in tqdm(filenames):\n",
    "    msim = _msi_utils.get_store_decorator(\n",
    "        filename.with_suffix('.zarr'),\n",
    "        store_overwrite=False)(\n",
    "            _msi_utils.get_msim_from_xim)(\n",
    "                _reader.read_tiff_into_spatial_xarray(\n",
    "                    filename,\n",
    "                    scale={'z': 2.58, 'y': 0.645, 'x': 0.645}\n",
    "                    \n",
    "                ))\n",
    "    msims.append(msim)\n"
   ]
  },
  {
   "cell_type": "markdown",
   "metadata": {},
   "source": [
    "### Set estimate of initial transformations"
   ]
  },
  {
   "cell_type": "code",
   "execution_count": 4,
   "metadata": {},
   "outputs": [],
   "source": [
    "import transformations as tf\n",
    "\n",
    "_msi_utils = importlib.reload(_msi_utils)\n",
    "\n",
    "for imsim, msim in enumerate(msims):\n",
    "\n",
    "    affine = tf.rotation_matrix(\n",
    "        -np.pi/2 * imsim,\n",
    "        point=_spatial_image_utils.get_center_of_xim(msims[imsim]['scale0/image']),#, transform=\"affine_metadata\"),\n",
    "        direction=[0,0,1],\n",
    "        )\n",
    "    \n",
    "    _msi_utils.set_affine_transform(\n",
    "        msim,\n",
    "        affine[None], # one tp\n",
    "        'affine_metadata'\n",
    "    )\n"
   ]
  },
  {
   "cell_type": "markdown",
   "metadata": {},
   "source": [
    "### Visualize pre-registered views"
   ]
  },
  {
   "cell_type": "code",
   "execution_count": 5,
   "metadata": {},
   "outputs": [
    {
     "name": "stderr",
     "output_type": "stream",
     "text": [
      "/Users/malbert/miniconda3/envs/napari-stitcher/lib/python3.10/site-packages/napari/layers/image/image.py:761: UserWarning: Multiscale rendering is only supported in 2D. In 3D, only the lowest resolution scale is displayed\n",
      "  warnings.warn(\n",
      "/Users/malbert/miniconda3/envs/napari-stitcher/lib/python3.10/site-packages/napari/layers/image/image.py:761: UserWarning: Multiscale rendering is only supported in 2D. In 3D, only the lowest resolution scale is displayed\n",
      "  warnings.warn(\n",
      "/Users/malbert/miniconda3/envs/napari-stitcher/lib/python3.10/site-packages/napari/layers/utils/_slice_input.py:72: UserWarning: Non-orthogonal slicing is being requested, but is not fully supported. Data is displayed without applying an out-of-slice rotation or shear component.\n",
      "  warnings.warn(\n",
      "/Users/malbert/miniconda3/envs/napari-stitcher/lib/python3.10/site-packages/napari/layers/image/image.py:761: UserWarning: Multiscale rendering is only supported in 2D. In 3D, only the lowest resolution scale is displayed\n",
      "  warnings.warn(\n",
      "/Users/malbert/miniconda3/envs/napari-stitcher/lib/python3.10/site-packages/napari/layers/image/image.py:761: UserWarning: Multiscale rendering is only supported in 2D. In 3D, only the lowest resolution scale is displayed\n",
      "  warnings.warn(\n",
      "/Users/malbert/miniconda3/envs/napari-stitcher/lib/python3.10/site-packages/napari/layers/utils/_slice_input.py:72: UserWarning: Non-orthogonal slicing is being requested, but is not fully supported. Data is displayed without applying an out-of-slice rotation or shear component.\n",
      "  warnings.warn(\n",
      "/Users/malbert/miniconda3/envs/napari-stitcher/lib/python3.10/site-packages/napari/layers/image/image.py:761: UserWarning: Multiscale rendering is only supported in 2D. In 3D, only the lowest resolution scale is displayed\n",
      "  warnings.warn(\n"
     ]
    },
    {
     "data": {
      "text/plain": [
       "[<Image layer 'tile_000 :: 0' at 0x29f82e2f0>,\n",
       " <Image layer 'tile_001 :: 0' at 0x29f885480>,\n",
       " <Image layer 'tile_002 :: 0' at 0x2b0688070>,\n",
       " <Image layer 'tile_003 :: 0' at 0x2b0545690>]"
      ]
     },
     "execution_count": 5,
     "metadata": {},
     "output_type": "execute_result"
    }
   ],
   "source": [
    "viewer = napari.Viewer(ndisplay=3)\n",
    "lds = _viewer_utils.create_image_layer_tuples_from_msims(msims, transform_key='affine_metadata', n_colors=4)\n",
    "\n",
    "_viewer_utils.add_image_layer_tuples_to_viewer(viewer, lds)"
   ]
  },
  {
   "cell_type": "markdown",
   "metadata": {},
   "source": [
    "### Register views"
   ]
  },
  {
   "cell_type": "code",
   "execution_count": 10,
   "metadata": {},
   "outputs": [
    {
     "name": "stdout",
     "output_type": "stream",
     "text": [
      "[####################################### ] | 99% Completed | 3.06 s ms"
     ]
    },
    {
     "name": "stderr",
     "output_type": "stream",
     "text": [
      "/Users/malbert/miniconda3/envs/napari-stitcher/lib/python3.10/site-packages/numpy/lib/function_base.py:2853: RuntimeWarning: invalid value encountered in divide\n",
      "  c /= stddev[:, None]\n",
      "/Users/malbert/miniconda3/envs/napari-stitcher/lib/python3.10/site-packages/numpy/lib/function_base.py:2854: RuntimeWarning: invalid value encountered in divide\n",
      "  c /= stddev[None, :]\n"
     ]
    },
    {
     "name": "stdout",
     "output_type": "stream",
     "text": [
      "[########################################] | 100% Completed | 3.69 s\n"
     ]
    }
   ],
   "source": [
    "import importlib\n",
    "_registration = importlib.reload(_registration)\n",
    "\n",
    "with dask.diagnostics.ProgressBar():\n",
    "    params = _registration.register(\n",
    "        [_msi_utils.get_xim_from_msim(msim) for msim in msims],\n",
    "        registration_binning={'z': 2, 'y': 8, 'x': 8},\n",
    "        reg_channel_index=0,\n",
    "        transform_key='affine_metadata',\n",
    "    )\n",
    "    \n",
    "for msim, param in zip(msims, params):\n",
    "    _msi_utils.set_affine_transform(msim, param, transform_key='affine_registered', base_transform_key='affine_metadata')"
   ]
  },
  {
   "cell_type": "markdown",
   "metadata": {},
   "source": [
    "### Visualize registration"
   ]
  },
  {
   "cell_type": "code",
   "execution_count": 11,
   "metadata": {},
   "outputs": [
    {
     "name": "stderr",
     "output_type": "stream",
     "text": [
      "/Users/malbert/miniconda3/envs/napari-stitcher/lib/python3.10/site-packages/napari/layers/image/image.py:761: UserWarning: Multiscale rendering is only supported in 2D. In 3D, only the lowest resolution scale is displayed\n",
      "  warnings.warn(\n",
      "/Users/malbert/miniconda3/envs/napari-stitcher/lib/python3.10/site-packages/napari/layers/image/image.py:761: UserWarning: Multiscale rendering is only supported in 2D. In 3D, only the lowest resolution scale is displayed\n",
      "  warnings.warn(\n",
      "/Users/malbert/miniconda3/envs/napari-stitcher/lib/python3.10/site-packages/napari/layers/utils/_slice_input.py:72: UserWarning: Non-orthogonal slicing is being requested, but is not fully supported. Data is displayed without applying an out-of-slice rotation or shear component.\n",
      "  warnings.warn(\n",
      "/Users/malbert/miniconda3/envs/napari-stitcher/lib/python3.10/site-packages/napari/layers/image/image.py:761: UserWarning: Multiscale rendering is only supported in 2D. In 3D, only the lowest resolution scale is displayed\n",
      "  warnings.warn(\n",
      "/Users/malbert/miniconda3/envs/napari-stitcher/lib/python3.10/site-packages/napari/layers/image/image.py:761: UserWarning: Multiscale rendering is only supported in 2D. In 3D, only the lowest resolution scale is displayed\n",
      "  warnings.warn(\n",
      "/Users/malbert/miniconda3/envs/napari-stitcher/lib/python3.10/site-packages/napari/layers/utils/_slice_input.py:72: UserWarning: Non-orthogonal slicing is being requested, but is not fully supported. Data is displayed without applying an out-of-slice rotation or shear component.\n",
      "  warnings.warn(\n",
      "/Users/malbert/miniconda3/envs/napari-stitcher/lib/python3.10/site-packages/napari/layers/image/image.py:761: UserWarning: Multiscale rendering is only supported in 2D. In 3D, only the lowest resolution scale is displayed\n",
      "  warnings.warn(\n",
      "/Users/malbert/miniconda3/envs/napari-stitcher/lib/python3.10/site-packages/napari/layers/image/image.py:761: UserWarning: Multiscale rendering is only supported in 2D. In 3D, only the lowest resolution scale is displayed\n",
      "  warnings.warn(\n",
      "/Users/malbert/miniconda3/envs/napari-stitcher/lib/python3.10/site-packages/napari/layers/utils/_slice_input.py:72: UserWarning: Non-orthogonal slicing is being requested, but is not fully supported. Data is displayed without applying an out-of-slice rotation or shear component.\n",
      "  warnings.warn(\n",
      "/Users/malbert/miniconda3/envs/napari-stitcher/lib/python3.10/site-packages/napari/layers/image/image.py:761: UserWarning: Multiscale rendering is only supported in 2D. In 3D, only the lowest resolution scale is displayed\n",
      "  warnings.warn(\n",
      "/Users/malbert/miniconda3/envs/napari-stitcher/lib/python3.10/site-packages/napari/layers/image/image.py:761: UserWarning: Multiscale rendering is only supported in 2D. In 3D, only the lowest resolution scale is displayed\n",
      "  warnings.warn(\n",
      "/Users/malbert/miniconda3/envs/napari-stitcher/lib/python3.10/site-packages/napari/layers/utils/_slice_input.py:72: UserWarning: Non-orthogonal slicing is being requested, but is not fully supported. Data is displayed without applying an out-of-slice rotation or shear component.\n",
      "  warnings.warn(\n",
      "/Users/malbert/miniconda3/envs/napari-stitcher/lib/python3.10/site-packages/napari/layers/image/image.py:761: UserWarning: Multiscale rendering is only supported in 2D. In 3D, only the lowest resolution scale is displayed\n",
      "  warnings.warn(\n"
     ]
    }
   ],
   "source": [
    "viewer = napari.Viewer(ndisplay=3)\n",
    "\n",
    "lds = _viewer_utils.create_image_layer_tuples_from_msims(\n",
    "    msims, transform_key='affine_metadata', n_colors=4,\n",
    "    name_prefix='pre-registered view')\n",
    "mlayers = _viewer_utils.add_image_layer_tuples_to_viewer(viewer, lds, do_link_layers=True)\n",
    "\n",
    "lds = _viewer_utils.create_image_layer_tuples_from_msims(\n",
    "    msims, transform_key='affine_registered', n_colors=4,\n",
    "    name_prefix='registered view')\n",
    "rlayers = _viewer_utils.add_image_layer_tuples_to_viewer(viewer, lds, do_link_layers=True)"
   ]
  },
  {
   "cell_type": "markdown",
   "metadata": {},
   "source": [
    "### Fuse views (linear blending)"
   ]
  },
  {
   "cell_type": "code",
   "execution_count": 13,
   "metadata": {},
   "outputs": [
    {
     "name": "stdout",
     "output_type": "stream",
     "text": [
      "[########################################] | 100% Completed | 2.05 sms\n"
     ]
    }
   ],
   "source": [
    "import importlib\n",
    "_fusion = importlib.reload(_fusion)\n",
    "from napari_stitcher import _transformation\n",
    "_transformation = importlib.reload(_transformation)\n",
    "\n",
    "xims = [_msi_utils.get_xim_from_msim(msim) for msim in msims]\n",
    "\n",
    "tmpdir = tempfile.TemporaryDirectory()\n",
    "\n",
    "fused = _fusion.fuse(\n",
    "    xims[:],\n",
    "    transform_key='affine_registered',\n",
    "    output_spacing={dim: 5. for dim in ['z', 'y', 'x']})#, tmpdir=tmpdir)\n",
    "\n",
    "# WHY DOES IT COMPUTE TWICE?\n",
    "\n",
    "mfused = _msi_utils.get_msim_from_xim(fused, scale_factors=None)\n",
    "\n",
    "fused_path = os.path.join(tmpdir.name, 'fused.zarr')\n",
    "with dask.diagnostics.ProgressBar():\n",
    "    mfused.to_zarr(fused_path)\n",
    "    \n",
    "mfused = _msi_utils.multiscale_spatial_image_from_zarr(fused_path)"
   ]
  },
  {
   "cell_type": "markdown",
   "metadata": {},
   "source": [
    "### Visualize fusion in napari"
   ]
  },
  {
   "cell_type": "code",
   "execution_count": 14,
   "metadata": {},
   "outputs": [
    {
     "name": "stderr",
     "output_type": "stream",
     "text": [
      "/Users/malbert/miniconda3/envs/napari-stitcher/lib/python3.10/site-packages/napari/layers/image/image.py:761: UserWarning: Multiscale rendering is only supported in 2D. In 3D, only the lowest resolution scale is displayed\n",
      "  warnings.warn(\n",
      "/Users/malbert/miniconda3/envs/napari-stitcher/lib/python3.10/site-packages/napari/layers/image/image.py:761: UserWarning: Multiscale rendering is only supported in 2D. In 3D, only the lowest resolution scale is displayed\n",
      "  warnings.warn(\n",
      "/Users/malbert/miniconda3/envs/napari-stitcher/lib/python3.10/site-packages/napari/layers/utils/_slice_input.py:72: UserWarning: Non-orthogonal slicing is being requested, but is not fully supported. Data is displayed without applying an out-of-slice rotation or shear component.\n",
      "  warnings.warn(\n",
      "/Users/malbert/miniconda3/envs/napari-stitcher/lib/python3.10/site-packages/napari/layers/image/image.py:761: UserWarning: Multiscale rendering is only supported in 2D. In 3D, only the lowest resolution scale is displayed\n",
      "  warnings.warn(\n",
      "/Users/malbert/miniconda3/envs/napari-stitcher/lib/python3.10/site-packages/napari/layers/image/image.py:761: UserWarning: Multiscale rendering is only supported in 2D. In 3D, only the lowest resolution scale is displayed\n",
      "  warnings.warn(\n",
      "/Users/malbert/miniconda3/envs/napari-stitcher/lib/python3.10/site-packages/napari/layers/utils/_slice_input.py:72: UserWarning: Non-orthogonal slicing is being requested, but is not fully supported. Data is displayed without applying an out-of-slice rotation or shear component.\n",
      "  warnings.warn(\n",
      "/Users/malbert/miniconda3/envs/napari-stitcher/lib/python3.10/site-packages/napari/layers/image/image.py:761: UserWarning: Multiscale rendering is only supported in 2D. In 3D, only the lowest resolution scale is displayed\n",
      "  warnings.warn(\n",
      "/Users/malbert/miniconda3/envs/napari-stitcher/lib/python3.10/site-packages/napari/layers/image/image.py:761: UserWarning: Multiscale rendering is only supported in 2D. In 3D, only the lowest resolution scale is displayed\n",
      "  warnings.warn(\n"
     ]
    },
    {
     "data": {
      "text/plain": [
       "[<Image layer 'fused :: [0]' at 0x15b16f0a0>]"
      ]
     },
     "execution_count": 14,
     "metadata": {},
     "output_type": "execute_result"
    }
   ],
   "source": [
    "viewer = napari.Viewer(ndisplay=3)\n",
    "\n",
    "lds = _viewer_utils.create_image_layer_tuples_from_msims(\n",
    "    msims, transform_key='affine_registered', n_colors=4,\n",
    "    name_prefix='registered view')\n",
    "\n",
    "rlayers = _viewer_utils.add_image_layer_tuples_to_viewer(viewer, lds, do_link_layers=True)\n",
    "\n",
    "ld = _viewer_utils.create_image_layer_tuple_from_msim(mfused, transform_key='affine_registered', name_prefix='fused')\n",
    "\n",
    "_viewer_utils.add_image_layer_tuples_to_viewer(viewer, [ld])"
   ]
  },
  {
   "cell_type": "code",
   "execution_count": 15,
   "metadata": {},
   "outputs": [
    {
     "name": "stdout",
     "output_type": "stream",
     "text": [
      "[########################################] | 100% Completed | 106.38 ms\n"
     ]
    }
   ],
   "source": [
    "# stream presaved fused image to tif\n",
    "\n",
    "from napari_stitcher import _writer\n",
    "\n",
    "import importlib\n",
    "_writer = importlib.reload(_writer)\n",
    "\n",
    "with dask.diagnostics.ProgressBar():\n",
    "    _writer.save_xim_as_tif('fused.tif', _msi_utils.get_xim_from_msim(mfused))"
   ]
  }
 ],
 "metadata": {
  "kernelspec": {
   "display_name": "Python 3 (ipykernel)",
   "language": "python",
   "name": "python3"
  },
  "language_info": {
   "codemirror_mode": {
    "name": "ipython",
    "version": 3
   },
   "file_extension": ".py",
   "mimetype": "text/x-python",
   "name": "python",
   "nbconvert_exporter": "python",
   "pygments_lexer": "ipython3",
   "version": "3.10.11"
  }
 },
 "nbformat": 4,
 "nbformat_minor": 4
}
