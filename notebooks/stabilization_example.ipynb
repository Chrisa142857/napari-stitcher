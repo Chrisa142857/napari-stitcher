{
 "cells": [
  {
   "cell_type": "code",
   "execution_count": 1,
   "metadata": {},
   "outputs": [],
   "source": [
    "import os, tempfile\n",
    "import numpy as np\n",
    "\n",
    "from napari_stitcher import \\\n",
    "    (_reader,\n",
    "     _registration,\n",
    "     _fusion,\n",
    "     _viewer_utils,\n",
    "     _sample_data,\n",
    "     _writer)\n",
    "\n",
    "import dask.diagnostics\n",
    "\n",
    "import napari\n",
    "viewer = napari.Viewer()"
   ]
  },
  {
   "cell_type": "code",
   "execution_count": 2,
   "metadata": {},
   "outputs": [],
   "source": [
    "# Load dataset from file\n",
    "\n",
    "# filename = '/Users/malbert/software/napari-stitcher/image-datasets/arthur_20230613_e1_t0.czi'\n",
    "# xims = _reader.read_mosaic_image_into_list_of_spatial_xarrays(filename)\n",
    "\n",
    "# Test with generated dataset\n",
    "\n",
    "xims = _sample_data.generate_tiled_dataset(\n",
    "    ndim=2,\n",
    "    N_t=50,\n",
    "    N_c=1,\n",
    "    tile_size=50,\n",
    "    tiles_x=3,\n",
    "    tiles_y=3,\n",
    "    zoom=2,\n",
    "    overlap=0,\n",
    "    drift_scale=2,\n",
    "    shift_scale=2,\n",
    ")"
   ]
  },
  {
   "cell_type": "code",
   "execution_count": 3,
   "metadata": {},
   "outputs": [],
   "source": [
    "layer_tuples = _viewer_utils.create_image_layer_tuples_from_xims(xims)\n",
    "for lt in layer_tuples:\n",
    "    viewer.add_image(lt[0], **lt[1])"
   ]
  },
  {
   "cell_type": "code",
   "execution_count": 4,
   "metadata": {},
   "outputs": [
    {
     "name": "stdout",
     "output_type": "stream",
     "text": [
      "[########################################] | 100% Completed | 3.03 sms\n",
      "[########################################] | 100% Completed | 1.27 sms\n"
     ]
    }
   ],
   "source": [
    "tmpdir = tempfile.TemporaryDirectory()\n",
    "with dask.diagnostics.ProgressBar():\n",
    "    params = _registration.stabilize(xims, sigma=3)\n",
    "    xfused = _fusion.fuse(xims, params, tmpdir=tmpdir)"
   ]
  },
  {
   "cell_type": "code",
   "execution_count": 5,
   "metadata": {},
   "outputs": [],
   "source": [
    "ilts = _viewer_utils.create_image_layer_tuples_from_xims([xfused], name_prefix='fused')\n",
    "for i in ilts:\n",
    "    viewer.add_image(i[0], **i[1])"
   ]
  },
  {
   "cell_type": "code",
   "execution_count": 6,
   "metadata": {},
   "outputs": [
    {
     "name": "stdout",
     "output_type": "stream",
     "text": [
      "[########################################] | 100% Completed | 106.03 ms\n"
     ]
    }
   ],
   "source": [
    "with dask.diagnostics.ProgressBar():\n",
    "    _writer.save_xim_as_tif('fused.tif', xfused)"
   ]
  }
 ],
 "metadata": {
  "kernelspec": {
   "display_name": "napaconda",
   "language": "python",
   "name": "python3"
  },
  "language_info": {
   "codemirror_mode": {
    "name": "ipython",
    "version": 3
   },
   "file_extension": ".py",
   "mimetype": "text/x-python",
   "name": "python",
   "nbconvert_exporter": "python",
   "pygments_lexer": "ipython3",
   "version": "3.10.8"
  },
  "orig_nbformat": 4
 },
 "nbformat": 4,
 "nbformat_minor": 2
}
